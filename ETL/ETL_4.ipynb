{
 "cells": [
  {
   "cell_type": "markdown",
   "metadata": {},
   "source": [
    "### Pair Programming ETL Carga I\n",
    "\n",
    "___\n",
    "\n",
    "Es el momento de meter todos nuestros datos en SQL 💪🏽!!! En este ejercicio nos crearemos dos tablas en una BBDD creada por nosotras.\n",
    "📌 Nota Todo lo tendremos que hacer desde jupyter notebook\n",
    "\n"
   ]
  },
  {
   "cell_type": "code",
   "execution_count": 1,
   "metadata": {},
   "outputs": [],
   "source": [
    "import pandas as pd\n",
    "import mysql.connector"
   ]
  },
  {
   "cell_type": "markdown",
   "metadata": {},
   "source": [
    "1. Cread la BBDD con el nombre de energía. "
   ]
  },
  {
   "cell_type": "code",
   "execution_count": 2,
   "metadata": {},
   "outputs": [],
   "source": [
    "def crear_bbdd(nombre_bbdd):\n",
    "\n",
    "    mydb = mysql.connector.connect(\n",
    "      host=\"localhost\",\n",
    "      user=\"root\",\n",
    "      password=\"AlumnaAdalab\",\n",
    "      auth_plugin = 'mysql_native_password') \n",
    "    print(\"Conexión realizada con éxito\")\n",
    "    \n",
    "    mycursor = mydb.cursor()\n",
    "\n",
    "    try:\n",
    "        mycursor.execute(f\"CREATE DATABASE IF NOT EXISTS {nombre_bbdd};\")\n",
    "        print(mycursor)\n",
    "    except mysql.connector.Error as err:\n",
    "        print(err)\n",
    "        print(\"Error Code:\", err.errno)\n",
    "        print(\"SQLSTATE\", err.sqlstate)\n",
    "        print(\"Message\", err.msg)"
   ]
  },
  {
   "cell_type": "code",
   "execution_count": 3,
   "metadata": {},
   "outputs": [
    {
     "name": "stdout",
     "output_type": "stream",
     "text": [
      "Conexión realizada con éxito\n",
      "MySQLCursor: CREATE DATABASE IF NOT EXISTS energy;\n"
     ]
    }
   ],
   "source": [
    "crear_bbdd(\"energy\")"
   ]
  },
  {
   "cell_type": "markdown",
   "metadata": {},
   "source": [
    "2. Cread las tablas de la BBDD:\n",
    "- Tabla fechas\n",
    "- Tabla nacional_renovable_no_renovable\n",
    "- Tabla comunidades_renovable_no_renovable\n",
    "- Tabla comunidades"
   ]
  },
  {
   "cell_type": "code",
   "execution_count": 4,
   "metadata": {},
   "outputs": [],
   "source": [
    "def crear_insertar_tabla(nombre_bbdd, query):\n",
    "    \n",
    "    cnx = mysql.connector.connect(host=\"localhost\", user=\"root\", password=\"AlumnaAdalab\", database=f\"{nombre_bbdd}\", auth_plugin = 'mysql_native_password') \n",
    "\n",
    "    mycursor = cnx.cursor()\n",
    "\n",
    "    try: \n",
    "        mycursor.execute(query)\n",
    "        cnx.commit() \n",
    "\n",
    "    except mysql.connector.Error as err:\n",
    "        print(err)\n",
    "        print(\"Error Code:\", err.errno)\n",
    "        print(\"SQLSTATE\", err.sqlstate)\n",
    "        print(\"Message\", err.msg)"
   ]
  },
  {
   "cell_type": "code",
   "execution_count": 5,
   "metadata": {},
   "outputs": [],
   "source": [
    "crear_tablas = \"\"\" CREATE TABLE IF NOT EXISTS `energy`.`fechas` (\n",
    "                `id_date` INT NOT NULL AUTO_INCREMENT,\n",
    "                `date` DATE NOT NULL,\n",
    "                PRIMARY KEY (`id_date`))\n",
    "                ENGINE = InnoDB;\n",
    "                \n",
    "                CREATE TABLE IF NOT EXISTS `energy`.`comunidades` (\n",
    "                `id_location` INT NOT NULL,\n",
    "                `location` VARCHAR(45) NOT NULL,\n",
    "                PRIMARY KEY (`id_location`))\n",
    "                ENGINE = InnoDB;\n",
    "                \n",
    "                CREATE TABLE IF NOT EXISTS `energy`.`comunidades_renovable_no_renovable` (\n",
    "                `id_comunidades_renovable_no_renovable` INT NOT NULL AUTO_INCREMENT,\n",
    "                `value` FLOAT NULL,\n",
    "                `percentage` FLOAT NULL,\n",
    "                `energy_type` VARCHAR(45) NULL,\n",
    "                `comunidades_id_location` INT NOT NULL,\n",
    "                `fechas_id_date1` INT NOT NULL,\n",
    "                PRIMARY KEY (`id_comunidades_renovable_no_renovable`),\n",
    "                INDEX `fk_comunidades_renovable_no_renovable_comunidades1_idx` (`comunidades_id_location` ASC) VISIBLE,\n",
    "                INDEX `fk_comunidades_renovable_no_renovable_fechas1_idx` (`fechas_id_date1` ASC) VISIBLE,\n",
    "                CONSTRAINT `fk_comunidades_renovable_no_renovable_comunidades1`\n",
    "                FOREIGN KEY (`comunidades_id_location`)\n",
    "                REFERENCES `energy`.`comunidades` (`id_location`)\n",
    "                ON DELETE NO ACTION\n",
    "                ON UPDATE NO ACTION,\n",
    "                CONSTRAINT `fk_comunidades_renovable_no_renovable_fechas1`\n",
    "                FOREIGN KEY (`fechas_id_date1`)\n",
    "                REFERENCES `energy`.`fechas` (`id_date`)\n",
    "                ON DELETE NO ACTION\n",
    "                ON UPDATE NO ACTION)\n",
    "                ENGINE = InnoDB;\n",
    "                \n",
    "                CREATE TABLE IF NOT EXISTS `energy`.`nacional_renovable_no_renovable` (\n",
    "                `idnacional_renovable_no_renovable` INT NOT NULL AUTO_INCREMENT,\n",
    "                `value` FLOAT NULL,\n",
    "                `percentage` FLOAT NULL,\n",
    "                `energy_type` VARCHAR(45) NULL,\n",
    "                `fechas_id_date` INT NOT NULL,\n",
    "                PRIMARY KEY (`idnacional_renovable_no_renovable`),\n",
    "                INDEX `fk_nacional_renovable_no_renovable_fechas1_idx` (`fechas_id_date` ASC) VISIBLE,\n",
    "                CONSTRAINT `fk_nacional_renovable_no_renovable_fechas1`\n",
    "                FOREIGN KEY (`fechas_id_date`)\n",
    "                REFERENCES `energy`.`fechas` (`id_date`)\n",
    "                ON DELETE NO ACTION\n",
    "                ON UPDATE NO ACTION)\n",
    "                ENGINE = InnoDB;\"\"\""
   ]
  },
  {
   "cell_type": "code",
   "execution_count": 6,
   "metadata": {},
   "outputs": [
    {
     "name": "stdout",
     "output_type": "stream",
     "text": [
      "Use multi=True when executing multiple statements\n",
      "Error Code: -1\n",
      "SQLSTATE None\n",
      "Message Use multi=True when executing multiple statements\n"
     ]
    }
   ],
   "source": [
    "crear_insertar_tabla(\"energy\", crear_tablas)"
   ]
  },
  {
   "cell_type": "markdown",
   "metadata": {},
   "source": [
    "Nos sale error en el commit pero, revisando Workbench, todas las tablas y foreign keys están correctamente creadas."
   ]
  },
  {
   "cell_type": "markdown",
   "metadata": {},
   "source": [
    "\n",
    "    \n",
    "**BONUS** Insertar los datos en las tablas.\n",
    "📌 Nota Esta parte del pair es optativa y no será considerada para la evaluación"
   ]
  },
  {
   "cell_type": "code",
   "execution_count": 7,
   "metadata": {},
   "outputs": [],
   "source": [
    "df_energia = pd.read_csv(\"data/energias_años.csv\", index_col=0)\n",
    "df_ccaa = pd.read_csv(\"data/energias_comunidades.csv\", index_col=0)"
   ]
  },
  {
   "cell_type": "code",
   "execution_count": 8,
   "metadata": {},
   "outputs": [
    {
     "data": {
      "text/html": [
       "<div>\n",
       "<style scoped>\n",
       "    .dataframe tbody tr th:only-of-type {\n",
       "        vertical-align: middle;\n",
       "    }\n",
       "\n",
       "    .dataframe tbody tr th {\n",
       "        vertical-align: top;\n",
       "    }\n",
       "\n",
       "    .dataframe thead th {\n",
       "        text-align: right;\n",
       "    }\n",
       "</style>\n",
       "<table border=\"1\" class=\"dataframe\">\n",
       "  <thead>\n",
       "    <tr style=\"text-align: right;\">\n",
       "      <th></th>\n",
       "      <th>value</th>\n",
       "      <th>percentage</th>\n",
       "      <th>energy_type</th>\n",
       "      <th>date</th>\n",
       "    </tr>\n",
       "  </thead>\n",
       "  <tbody>\n",
       "    <tr>\n",
       "      <th>0</th>\n",
       "      <td>213821.42</td>\n",
       "      <td>0.36</td>\n",
       "      <td>Renovable</td>\n",
       "      <td>2020-01-01</td>\n",
       "    </tr>\n",
       "    <tr>\n",
       "      <th>1</th>\n",
       "      <td>270043.77</td>\n",
       "      <td>0.38</td>\n",
       "      <td>Renovable</td>\n",
       "      <td>2020-01-02</td>\n",
       "    </tr>\n",
       "  </tbody>\n",
       "</table>\n",
       "</div>"
      ],
      "text/plain": [
       "       value  percentage energy_type        date\n",
       "0  213821.42        0.36   Renovable  2020-01-01\n",
       "1  270043.77        0.38   Renovable  2020-01-02"
      ]
     },
     "execution_count": 8,
     "metadata": {},
     "output_type": "execute_result"
    }
   ],
   "source": [
    "df_energia.head(2)"
   ]
  },
  {
   "cell_type": "code",
   "execution_count": 9,
   "metadata": {},
   "outputs": [
    {
     "data": {
      "text/html": [
       "<div>\n",
       "<style scoped>\n",
       "    .dataframe tbody tr th:only-of-type {\n",
       "        vertical-align: middle;\n",
       "    }\n",
       "\n",
       "    .dataframe tbody tr th {\n",
       "        vertical-align: top;\n",
       "    }\n",
       "\n",
       "    .dataframe thead th {\n",
       "        text-align: right;\n",
       "    }\n",
       "</style>\n",
       "<table border=\"1\" class=\"dataframe\">\n",
       "  <thead>\n",
       "    <tr style=\"text-align: right;\">\n",
       "      <th></th>\n",
       "      <th>value</th>\n",
       "      <th>percentage</th>\n",
       "      <th>energy_type</th>\n",
       "      <th>location</th>\n",
       "      <th>id_location</th>\n",
       "      <th>date</th>\n",
       "    </tr>\n",
       "  </thead>\n",
       "  <tbody>\n",
       "    <tr>\n",
       "      <th>0</th>\n",
       "      <td>199198.10</td>\n",
       "      <td>1.00</td>\n",
       "      <td>No renovable</td>\n",
       "      <td>Ceuta</td>\n",
       "      <td>8744</td>\n",
       "      <td>2020-01-01</td>\n",
       "    </tr>\n",
       "    <tr>\n",
       "      <th>0</th>\n",
       "      <td>5602.26</td>\n",
       "      <td>0.03</td>\n",
       "      <td>Renovable</td>\n",
       "      <td>Melilla</td>\n",
       "      <td>8745</td>\n",
       "      <td>2020-01-01</td>\n",
       "    </tr>\n",
       "  </tbody>\n",
       "</table>\n",
       "</div>"
      ],
      "text/plain": [
       "       value  percentage   energy_type location  id_location        date\n",
       "0  199198.10        1.00  No renovable    Ceuta         8744  2020-01-01\n",
       "0    5602.26        0.03     Renovable  Melilla         8745  2020-01-01"
      ]
     },
     "execution_count": 9,
     "metadata": {},
     "output_type": "execute_result"
    }
   ],
   "source": [
    "df_ccaa.head(2)"
   ]
  },
  {
   "cell_type": "markdown",
   "metadata": {},
   "source": [
    "Vamos a insertar en \"comunidades\""
   ]
  },
  {
   "cell_type": "code",
   "execution_count": 10,
   "metadata": {},
   "outputs": [],
   "source": [
    "cod_location = {\"Ceuta\": 8744, \"Melilla\": 8745, \"Andalucía\": 4, \"Aragón\": 5, \"Cantabria\": 6, \"Castilla - La Mancha\": 7, \"Castilla y León\": 8, \"Cataluña\": 9, \"País Vasco\": 10,\n",
    "                        \"Principado de Asturias\": 11, \"Comunidad de Madrid\": 13, \"Comunidad Foral de Navarra\": 14, \"Comunitat Valenciana\": 15, \"Extremadura\": 16, \"Galicia\": 17,\n",
    "                        \"Illes Balears\": 8743, \"Canarias\": 8742, \"Región de Murcia\": 21, \"La Rioja\": 20}"
   ]
  },
  {
   "cell_type": "code",
   "execution_count": 11,
   "metadata": {},
   "outputs": [],
   "source": [
    "df_localidades = pd.DataFrame(pd.Series(cod_location)).reset_index()"
   ]
  },
  {
   "cell_type": "code",
   "execution_count": 12,
   "metadata": {},
   "outputs": [
    {
     "data": {
      "text/html": [
       "<div>\n",
       "<style scoped>\n",
       "    .dataframe tbody tr th:only-of-type {\n",
       "        vertical-align: middle;\n",
       "    }\n",
       "\n",
       "    .dataframe tbody tr th {\n",
       "        vertical-align: top;\n",
       "    }\n",
       "\n",
       "    .dataframe thead th {\n",
       "        text-align: right;\n",
       "    }\n",
       "</style>\n",
       "<table border=\"1\" class=\"dataframe\">\n",
       "  <thead>\n",
       "    <tr style=\"text-align: right;\">\n",
       "      <th></th>\n",
       "      <th>index</th>\n",
       "      <th>0</th>\n",
       "    </tr>\n",
       "  </thead>\n",
       "  <tbody>\n",
       "    <tr>\n",
       "      <th>0</th>\n",
       "      <td>Ceuta</td>\n",
       "      <td>8744</td>\n",
       "    </tr>\n",
       "    <tr>\n",
       "      <th>1</th>\n",
       "      <td>Melilla</td>\n",
       "      <td>8745</td>\n",
       "    </tr>\n",
       "  </tbody>\n",
       "</table>\n",
       "</div>"
      ],
      "text/plain": [
       "     index     0\n",
       "0    Ceuta  8744\n",
       "1  Melilla  8745"
      ]
     },
     "execution_count": 12,
     "metadata": {},
     "output_type": "execute_result"
    }
   ],
   "source": [
    "df_localidades.head(2)"
   ]
  },
  {
   "cell_type": "code",
   "execution_count": 13,
   "metadata": {},
   "outputs": [],
   "source": [
    "for indice, fila in df_localidades.iterrows():\n",
    "\n",
    "    query_localidad = f\"\"\"\n",
    "                INSERT INTO comunidades (id_location, location) \n",
    "                VALUES ( \"{fila[0]}\", \"{fila[\"index\"]}\");\"\"\"\n",
    "    \n",
    "    crear_insertar_tabla(\"energy\", query_localidad)"
   ]
  },
  {
   "cell_type": "markdown",
   "metadata": {},
   "source": [
    "Vamos a insertar en \"fechas\""
   ]
  },
  {
   "cell_type": "code",
   "execution_count": 14,
   "metadata": {},
   "outputs": [
    {
     "data": {
      "text/plain": [
       "0      2020-01-01\n",
       "1      2020-01-02\n",
       "2      2020-01-03\n",
       "3      2020-01-04\n",
       "4      2020-01-05\n",
       "          ...    \n",
       "726    2021-12-27\n",
       "727    2021-12-28\n",
       "728    2021-12-29\n",
       "729    2021-12-30\n",
       "730    2021-12-31\n",
       "Length: 731, dtype: object"
      ]
     },
     "execution_count": 14,
     "metadata": {},
     "output_type": "execute_result"
    }
   ],
   "source": [
    "fechas = pd.Series(df_energia[\"date\"].unique())\n",
    "fechas"
   ]
  },
  {
   "cell_type": "code",
   "execution_count": 15,
   "metadata": {},
   "outputs": [],
   "source": [
    "for fila in fechas:\n",
    "    query_fechas = f\"\"\"\n",
    "                INSERT INTO fechas (date)\n",
    "                VALUES ('{fila}')\"\"\"\n",
    "    \n",
    "    crear_insertar_tabla(\"energy\", query_fechas)"
   ]
  },
  {
   "cell_type": "code",
   "execution_count": 16,
   "metadata": {},
   "outputs": [
    {
     "data": {
      "text/html": [
       "<div>\n",
       "<style scoped>\n",
       "    .dataframe tbody tr th:only-of-type {\n",
       "        vertical-align: middle;\n",
       "    }\n",
       "\n",
       "    .dataframe tbody tr th {\n",
       "        vertical-align: top;\n",
       "    }\n",
       "\n",
       "    .dataframe thead th {\n",
       "        text-align: right;\n",
       "    }\n",
       "</style>\n",
       "<table border=\"1\" class=\"dataframe\">\n",
       "  <thead>\n",
       "    <tr style=\"text-align: right;\">\n",
       "      <th></th>\n",
       "      <th>value</th>\n",
       "      <th>percentage</th>\n",
       "      <th>energy_type</th>\n",
       "      <th>date</th>\n",
       "    </tr>\n",
       "  </thead>\n",
       "  <tbody>\n",
       "    <tr>\n",
       "      <th>0</th>\n",
       "      <td>213821.42</td>\n",
       "      <td>0.36</td>\n",
       "      <td>Renovable</td>\n",
       "      <td>2020-01-01</td>\n",
       "    </tr>\n",
       "  </tbody>\n",
       "</table>\n",
       "</div>"
      ],
      "text/plain": [
       "       value  percentage energy_type        date\n",
       "0  213821.42        0.36   Renovable  2020-01-01"
      ]
     },
     "execution_count": 16,
     "metadata": {},
     "output_type": "execute_result"
    }
   ],
   "source": [
    "df_energia.head(1)"
   ]
  },
  {
   "cell_type": "code",
   "execution_count": 17,
   "metadata": {},
   "outputs": [
    {
     "data": {
      "text/html": [
       "<div>\n",
       "<style scoped>\n",
       "    .dataframe tbody tr th:only-of-type {\n",
       "        vertical-align: middle;\n",
       "    }\n",
       "\n",
       "    .dataframe tbody tr th {\n",
       "        vertical-align: top;\n",
       "    }\n",
       "\n",
       "    .dataframe thead th {\n",
       "        text-align: right;\n",
       "    }\n",
       "</style>\n",
       "<table border=\"1\" class=\"dataframe\">\n",
       "  <thead>\n",
       "    <tr style=\"text-align: right;\">\n",
       "      <th></th>\n",
       "      <th>value</th>\n",
       "      <th>percentage</th>\n",
       "      <th>energy_type</th>\n",
       "      <th>location</th>\n",
       "      <th>id_location</th>\n",
       "      <th>date</th>\n",
       "    </tr>\n",
       "  </thead>\n",
       "  <tbody>\n",
       "    <tr>\n",
       "      <th>0</th>\n",
       "      <td>199198.1</td>\n",
       "      <td>1.0</td>\n",
       "      <td>No renovable</td>\n",
       "      <td>Ceuta</td>\n",
       "      <td>8744</td>\n",
       "      <td>2020-01-01</td>\n",
       "    </tr>\n",
       "  </tbody>\n",
       "</table>\n",
       "</div>"
      ],
      "text/plain": [
       "      value  percentage   energy_type location  id_location        date\n",
       "0  199198.1         1.0  No renovable    Ceuta         8744  2020-01-01"
      ]
     },
     "execution_count": 17,
     "metadata": {},
     "output_type": "execute_result"
    }
   ],
   "source": [
    "df_ccaa.head(1)"
   ]
  },
  {
   "cell_type": "code",
   "execution_count": 18,
   "metadata": {},
   "outputs": [],
   "source": [
    "def sacar_id_fecha(nombre_bbdd, fecha):\n",
    "        \n",
    "        cnx = mysql.connector.connect(user='root', password='AlumnaAdalab',\n",
    "                                    host='127.0.0.1', database=f\"{nombre_bbdd}\",  auth_plugin = 'mysql_native_password')\n",
    "        mycursor = cnx.cursor()\n",
    "\n",
    "\n",
    "        query_sacar_id_fecha = f\"SELECT id_date FROM fechas WHERE date = '{fecha}'\"\n",
    "        \n",
    "        try: \n",
    "            mycursor.execute(query_sacar_id_fecha)\n",
    "            id_date = mycursor.fetchall()[0][0]\n",
    "            return id_date\n",
    "        \n",
    "        except: \n",
    "            return \"Sorry, no tenemos esa fecha en la BBDD y por lo tanto no te podemos dar su id. \""
   ]
  },
  {
   "cell_type": "code",
   "execution_count": 19,
   "metadata": {},
   "outputs": [],
   "source": [
    "for indice, fila in df_energia.iterrows():\n",
    "    \n",
    "    id_fecha = sacar_id_fecha(\"energy\", fila[\"date\"])\n",
    "    \n",
    "    query_energia = f\"\"\"\n",
    "                INSERT INTO nacional_renovable_no_renovable (value, percentage, energy_type, fechas_id_date) \n",
    "                VALUES ({fila[\"value\"]}, {fila[\"percentage\"]}, \"{fila[\"energy_type\"]}\", {id_fecha});\n",
    "                \"\"\"\n",
    "    crear_insertar_tabla(\"energy\", query_energia)"
   ]
  },
  {
   "cell_type": "code",
   "execution_count": 22,
   "metadata": {},
   "outputs": [],
   "source": [
    "for indice, fila in df_ccaa.iterrows():\n",
    "    \n",
    "    id_fecha = sacar_id_fecha(\"energy\", fila[\"date\"])\n",
    "    \n",
    "    query_energia = f\"\"\"\n",
    "                INSERT INTO comunidades_renovable_no_renovable (value, percentage, energy_type, comunidades_id_location, fechas_id_date1) \n",
    "                VALUES ({fila[\"value\"]}, {fila[\"percentage\"]}, \"{fila[\"energy_type\"]}\", \"{fila[\"id_location\"]}\", {id_fecha});\n",
    "                \"\"\"\n",
    "    crear_insertar_tabla(\"energy\", query_energia)"
   ]
  }
 ],
 "metadata": {
  "kernelspec": {
   "display_name": "adalabenv",
   "language": "python",
   "name": "python3"
  },
  "language_info": {
   "codemirror_mode": {
    "name": "ipython",
    "version": 3
   },
   "file_extension": ".py",
   "mimetype": "text/x-python",
   "name": "python",
   "nbconvert_exporter": "python",
   "pygments_lexer": "ipython3",
   "version": "3.11.4"
  },
  "orig_nbformat": 4
 },
 "nbformat": 4,
 "nbformat_minor": 2
}
