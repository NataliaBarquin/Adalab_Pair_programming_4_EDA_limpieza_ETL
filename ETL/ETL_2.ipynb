{
 "cells": [
  {
   "cell_type": "markdown",
   "metadata": {},
   "source": [
    "# ETL 2"
   ]
  },
  {
   "cell_type": "code",
   "execution_count": 57,
   "metadata": {},
   "outputs": [],
   "source": [
    "import pandas as pd\n",
    "from datetime import datetime, timedelta"
   ]
  },
  {
   "cell_type": "code",
   "execution_count": 58,
   "metadata": {},
   "outputs": [
    {
     "data": {
      "text/html": [
       "<div>\n",
       "<style scoped>\n",
       "    .dataframe tbody tr th:only-of-type {\n",
       "        vertical-align: middle;\n",
       "    }\n",
       "\n",
       "    .dataframe tbody tr th {\n",
       "        vertical-align: top;\n",
       "    }\n",
       "\n",
       "    .dataframe thead th {\n",
       "        text-align: right;\n",
       "    }\n",
       "</style>\n",
       "<table border=\"1\" class=\"dataframe\">\n",
       "  <thead>\n",
       "    <tr style=\"text-align: right;\">\n",
       "      <th></th>\n",
       "      <th>Comunidad</th>\n",
       "      <th>indice</th>\n",
       "      <th>Comunidades_y_Ciudades_Autónomas</th>\n",
       "      <th>Año</th>\n",
       "      <th>Total</th>\n",
       "    </tr>\n",
       "  </thead>\n",
       "  <tbody>\n",
       "    <tr>\n",
       "      <th>0</th>\n",
       "      <td>Ceuta</td>\n",
       "      <td>8744</td>\n",
       "      <td>Ceuta</td>\n",
       "      <td>2022</td>\n",
       "      <td>83.117</td>\n",
       "    </tr>\n",
       "  </tbody>\n",
       "</table>\n",
       "</div>"
      ],
      "text/plain": [
       "  Comunidad  indice Comunidades_y_Ciudades_Autónomas   Año   Total\n",
       "0     Ceuta    8744                            Ceuta  2022  83.117"
      ]
     },
     "execution_count": 58,
     "metadata": {},
     "output_type": "execute_result"
    }
   ],
   "source": [
    "df = pd.read_csv(\"data/poblacion_comunidades.csv\", index_col = 0)\n",
    "df.head(1)"
   ]
  },
  {
   "cell_type": "code",
   "execution_count": 59,
   "metadata": {},
   "outputs": [],
   "source": [
    "df_energias = pd.read_csv(\"data/energias_años.csv\", index_col = 0)"
   ]
  },
  {
   "cell_type": "code",
   "execution_count": 60,
   "metadata": {},
   "outputs": [],
   "source": [
    "df_ccaa = pd.read_csv(\"data/energias_comunidades.csv\", index_col = 0)"
   ]
  },
  {
   "cell_type": "markdown",
   "metadata": {},
   "source": [
    "1. El csv donde tenemos la información censal de cada Comunidad Autónoma tiene algunas columnas que no son redundantes para nuestro análisis, en este csv tendremos que:\n",
    "\n",
    "- Eliminar la columna de Comunidades_y_Ciudades_Autónomas"
   ]
  },
  {
   "cell_type": "code",
   "execution_count": 61,
   "metadata": {},
   "outputs": [
    {
     "data": {
      "text/html": [
       "<div>\n",
       "<style scoped>\n",
       "    .dataframe tbody tr th:only-of-type {\n",
       "        vertical-align: middle;\n",
       "    }\n",
       "\n",
       "    .dataframe tbody tr th {\n",
       "        vertical-align: top;\n",
       "    }\n",
       "\n",
       "    .dataframe thead th {\n",
       "        text-align: right;\n",
       "    }\n",
       "</style>\n",
       "<table border=\"1\" class=\"dataframe\">\n",
       "  <thead>\n",
       "    <tr style=\"text-align: right;\">\n",
       "      <th></th>\n",
       "      <th>Comunidad</th>\n",
       "      <th>indice</th>\n",
       "      <th>Año</th>\n",
       "      <th>Total</th>\n",
       "    </tr>\n",
       "  </thead>\n",
       "  <tbody>\n",
       "    <tr>\n",
       "      <th>0</th>\n",
       "      <td>Ceuta</td>\n",
       "      <td>8744</td>\n",
       "      <td>2022</td>\n",
       "      <td>83.117</td>\n",
       "    </tr>\n",
       "  </tbody>\n",
       "</table>\n",
       "</div>"
      ],
      "text/plain": [
       "  Comunidad  indice   Año   Total\n",
       "0     Ceuta    8744  2022  83.117"
      ]
     },
     "execution_count": 61,
     "metadata": {},
     "output_type": "execute_result"
    }
   ],
   "source": [
    "df.drop(\"Comunidades_y_Ciudades_Autónomas\", axis = 1, inplace = True)\n",
    "df.head(1)"
   ]
  },
  {
   "cell_type": "markdown",
   "metadata": {},
   "source": [
    "2. En el csv con la información de generación de energías renovables y no renovables a nivel nacional deberéis:\n",
    "\n",
    "    - Para las columnas value y percentage, redondear los decimales de los valores a 2."
   ]
  },
  {
   "cell_type": "code",
   "execution_count": 62,
   "metadata": {},
   "outputs": [
    {
     "data": {
      "text/html": [
       "<div>\n",
       "<style scoped>\n",
       "    .dataframe tbody tr th:only-of-type {\n",
       "        vertical-align: middle;\n",
       "    }\n",
       "\n",
       "    .dataframe tbody tr th {\n",
       "        vertical-align: top;\n",
       "    }\n",
       "\n",
       "    .dataframe thead th {\n",
       "        text-align: right;\n",
       "    }\n",
       "</style>\n",
       "<table border=\"1\" class=\"dataframe\">\n",
       "  <thead>\n",
       "    <tr style=\"text-align: right;\">\n",
       "      <th></th>\n",
       "      <th>value</th>\n",
       "      <th>percentage</th>\n",
       "      <th>datetime</th>\n",
       "      <th>id</th>\n",
       "      <th>tipo_energia</th>\n",
       "      <th>description</th>\n",
       "    </tr>\n",
       "  </thead>\n",
       "  <tbody>\n",
       "    <tr>\n",
       "      <th>0</th>\n",
       "      <td>182024.982</td>\n",
       "      <td>0.290121</td>\n",
       "      <td>2011-01-01T00:00:00.000+01:00</td>\n",
       "      <td>10299</td>\n",
       "      <td>Renovable</td>\n",
       "      <td>Energía renovable: incluye hidráulica, hidroeó...</td>\n",
       "    </tr>\n",
       "  </tbody>\n",
       "</table>\n",
       "</div>"
      ],
      "text/plain": [
       "        value  percentage                       datetime     id tipo_energia  \\\n",
       "0  182024.982    0.290121  2011-01-01T00:00:00.000+01:00  10299    Renovable   \n",
       "\n",
       "                                         description  \n",
       "0  Energía renovable: incluye hidráulica, hidroeó...  "
      ]
     },
     "execution_count": 62,
     "metadata": {},
     "output_type": "execute_result"
    }
   ],
   "source": [
    "df_energias.head(1)"
   ]
  },
  {
   "cell_type": "code",
   "execution_count": 63,
   "metadata": {},
   "outputs": [],
   "source": [
    "df_energias[[\"percentage\", \"value\"]] = df_energias[[\"percentage\", \"value\"]].apply(lambda elemento : elemento.round(2))"
   ]
  },
  {
   "cell_type": "code",
   "execution_count": 64,
   "metadata": {},
   "outputs": [
    {
     "data": {
      "text/html": [
       "<div>\n",
       "<style scoped>\n",
       "    .dataframe tbody tr th:only-of-type {\n",
       "        vertical-align: middle;\n",
       "    }\n",
       "\n",
       "    .dataframe tbody tr th {\n",
       "        vertical-align: top;\n",
       "    }\n",
       "\n",
       "    .dataframe thead th {\n",
       "        text-align: right;\n",
       "    }\n",
       "</style>\n",
       "<table border=\"1\" class=\"dataframe\">\n",
       "  <thead>\n",
       "    <tr style=\"text-align: right;\">\n",
       "      <th></th>\n",
       "      <th>value</th>\n",
       "      <th>percentage</th>\n",
       "      <th>datetime</th>\n",
       "      <th>id</th>\n",
       "      <th>tipo_energia</th>\n",
       "      <th>description</th>\n",
       "    </tr>\n",
       "  </thead>\n",
       "  <tbody>\n",
       "    <tr>\n",
       "      <th>0</th>\n",
       "      <td>182024.98</td>\n",
       "      <td>0.29</td>\n",
       "      <td>2011-01-01T00:00:00.000+01:00</td>\n",
       "      <td>10299</td>\n",
       "      <td>Renovable</td>\n",
       "      <td>Energía renovable: incluye hidráulica, hidroeó...</td>\n",
       "    </tr>\n",
       "    <tr>\n",
       "      <th>1</th>\n",
       "      <td>265705.89</td>\n",
       "      <td>0.39</td>\n",
       "      <td>2011-01-02T00:00:00.000+01:00</td>\n",
       "      <td>10299</td>\n",
       "      <td>Renovable</td>\n",
       "      <td>Energía renovable: incluye hidráulica, hidroeó...</td>\n",
       "    </tr>\n",
       "    <tr>\n",
       "      <th>2</th>\n",
       "      <td>249489.57</td>\n",
       "      <td>0.30</td>\n",
       "      <td>2011-01-03T00:00:00.000+01:00</td>\n",
       "      <td>10299</td>\n",
       "      <td>Renovable</td>\n",
       "      <td>Energía renovable: incluye hidráulica, hidroeó...</td>\n",
       "    </tr>\n",
       "    <tr>\n",
       "      <th>3</th>\n",
       "      <td>270981.71</td>\n",
       "      <td>0.31</td>\n",
       "      <td>2011-01-04T00:00:00.000+01:00</td>\n",
       "      <td>10299</td>\n",
       "      <td>Renovable</td>\n",
       "      <td>Energía renovable: incluye hidráulica, hidroeó...</td>\n",
       "    </tr>\n",
       "    <tr>\n",
       "      <th>4</th>\n",
       "      <td>379833.02</td>\n",
       "      <td>0.45</td>\n",
       "      <td>2011-01-05T00:00:00.000+01:00</td>\n",
       "      <td>10299</td>\n",
       "      <td>Renovable</td>\n",
       "      <td>Energía renovable: incluye hidráulica, hidroeó...</td>\n",
       "    </tr>\n",
       "  </tbody>\n",
       "</table>\n",
       "</div>"
      ],
      "text/plain": [
       "       value  percentage                       datetime     id tipo_energia  \\\n",
       "0  182024.98        0.29  2011-01-01T00:00:00.000+01:00  10299    Renovable   \n",
       "1  265705.89        0.39  2011-01-02T00:00:00.000+01:00  10299    Renovable   \n",
       "2  249489.57        0.30  2011-01-03T00:00:00.000+01:00  10299    Renovable   \n",
       "3  270981.71        0.31  2011-01-04T00:00:00.000+01:00  10299    Renovable   \n",
       "4  379833.02        0.45  2011-01-05T00:00:00.000+01:00  10299    Renovable   \n",
       "\n",
       "                                         description  \n",
       "0  Energía renovable: incluye hidráulica, hidroeó...  \n",
       "1  Energía renovable: incluye hidráulica, hidroeó...  \n",
       "2  Energía renovable: incluye hidráulica, hidroeó...  \n",
       "3  Energía renovable: incluye hidráulica, hidroeó...  \n",
       "4  Energía renovable: incluye hidráulica, hidroeó...  "
      ]
     },
     "execution_count": 64,
     "metadata": {},
     "output_type": "execute_result"
    }
   ],
   "source": [
    "df_energias.head()"
   ]
  },
  {
   "cell_type": "markdown",
   "metadata": {},
   "source": [
    "- La columna datetime es de tipo string, pero esto a nosotras no nos interesa. Además, en esta columna tiene tanto la fecha como la hora, pero en realidad la hora no nos esta aportando nada de información, es por esto que:\n",
    "\n",
    "        - Deberéis crear una columna nueva donde solo tengamos la información de la fecha en formato AÑO / MES / DIA.\n",
    "        \n",
    "        - Una vez creada la columna anterior, convertirla a datetime."
   ]
  },
  {
   "cell_type": "code",
   "execution_count": 65,
   "metadata": {},
   "outputs": [
    {
     "data": {
      "text/plain": [
       "value           float64\n",
       "percentage      float64\n",
       "datetime         object\n",
       "id                int64\n",
       "tipo_energia     object\n",
       "description      object\n",
       "dtype: object"
      ]
     },
     "execution_count": 65,
     "metadata": {},
     "output_type": "execute_result"
    }
   ],
   "source": [
    "df_energias.dtypes"
   ]
  },
  {
   "cell_type": "code",
   "execution_count": 66,
   "metadata": {},
   "outputs": [
    {
     "data": {
      "text/html": [
       "<div>\n",
       "<style scoped>\n",
       "    .dataframe tbody tr th:only-of-type {\n",
       "        vertical-align: middle;\n",
       "    }\n",
       "\n",
       "    .dataframe tbody tr th {\n",
       "        vertical-align: top;\n",
       "    }\n",
       "\n",
       "    .dataframe thead th {\n",
       "        text-align: right;\n",
       "    }\n",
       "</style>\n",
       "<table border=\"1\" class=\"dataframe\">\n",
       "  <thead>\n",
       "    <tr style=\"text-align: right;\">\n",
       "      <th></th>\n",
       "      <th>value</th>\n",
       "      <th>percentage</th>\n",
       "      <th>datetime</th>\n",
       "      <th>id</th>\n",
       "      <th>tipo_energia</th>\n",
       "      <th>description</th>\n",
       "      <th>fecha</th>\n",
       "    </tr>\n",
       "  </thead>\n",
       "  <tbody>\n",
       "    <tr>\n",
       "      <th>0</th>\n",
       "      <td>182024.98</td>\n",
       "      <td>0.29</td>\n",
       "      <td>2011-01-01T00:00:00.000+01:00</td>\n",
       "      <td>10299</td>\n",
       "      <td>Renovable</td>\n",
       "      <td>Energía renovable: incluye hidráulica, hidroeó...</td>\n",
       "      <td>2011-01-01</td>\n",
       "    </tr>\n",
       "  </tbody>\n",
       "</table>\n",
       "</div>"
      ],
      "text/plain": [
       "       value  percentage                       datetime     id tipo_energia  \\\n",
       "0  182024.98        0.29  2011-01-01T00:00:00.000+01:00  10299    Renovable   \n",
       "\n",
       "                                         description      fecha  \n",
       "0  Energía renovable: incluye hidráulica, hidroeó... 2011-01-01  "
      ]
     },
     "execution_count": 66,
     "metadata": {},
     "output_type": "execute_result"
    }
   ],
   "source": [
    "df_energias[\"fecha\"] = df_energias[\"datetime\"].str.split(\"T\", n = 1, expand = True).get(0).astype(\"datetime64[ns]\")\n",
    "df_energias.head(1)"
   ]
  },
  {
   "cell_type": "code",
   "execution_count": 67,
   "metadata": {},
   "outputs": [
    {
     "data": {
      "text/plain": [
       "value                  float64\n",
       "percentage             float64\n",
       "datetime                object\n",
       "id                       int64\n",
       "tipo_energia            object\n",
       "description             object\n",
       "fecha           datetime64[ns]\n",
       "dtype: object"
      ]
     },
     "execution_count": 67,
     "metadata": {},
     "output_type": "execute_result"
    }
   ],
   "source": [
    "#df_energias[\"fecha\"] = pd.to_datetime(df_energias[\"fecha\"])\n",
    "\n",
    "\n",
    "df_energias.dtypes"
   ]
  },
  {
   "cell_type": "markdown",
   "metadata": {},
   "source": [
    "3. En el csv con la información de generación de energías renovables y no renovables a nivel de comunidad autónoma deberéis aplicar los mismos cambios que aplicamos en el ejercicio anterior."
   ]
  },
  {
   "cell_type": "code",
   "execution_count": 68,
   "metadata": {},
   "outputs": [
    {
     "data": {
      "text/html": [
       "<div>\n",
       "<style scoped>\n",
       "    .dataframe tbody tr th:only-of-type {\n",
       "        vertical-align: middle;\n",
       "    }\n",
       "\n",
       "    .dataframe tbody tr th {\n",
       "        vertical-align: top;\n",
       "    }\n",
       "\n",
       "    .dataframe thead th {\n",
       "        text-align: right;\n",
       "    }\n",
       "</style>\n",
       "<table border=\"1\" class=\"dataframe\">\n",
       "  <thead>\n",
       "    <tr style=\"text-align: right;\">\n",
       "      <th></th>\n",
       "      <th>value</th>\n",
       "      <th>percentage</th>\n",
       "      <th>datetime</th>\n",
       "      <th>id</th>\n",
       "      <th>tipo_energia</th>\n",
       "      <th>description</th>\n",
       "      <th>location</th>\n",
       "    </tr>\n",
       "  </thead>\n",
       "  <tbody>\n",
       "    <tr>\n",
       "      <th>0</th>\n",
       "      <td>202972.893</td>\n",
       "      <td>1.0</td>\n",
       "      <td>2011-01-01T00:00:00.000+01:00</td>\n",
       "      <td>10298</td>\n",
       "      <td>No renovable</td>\n",
       "      <td>NaN</td>\n",
       "      <td>Ceuta</td>\n",
       "    </tr>\n",
       "  </tbody>\n",
       "</table>\n",
       "</div>"
      ],
      "text/plain": [
       "        value  percentage                       datetime     id  tipo_energia  \\\n",
       "0  202972.893         1.0  2011-01-01T00:00:00.000+01:00  10298  No renovable   \n",
       "\n",
       "  description location  \n",
       "0         NaN    Ceuta  "
      ]
     },
     "execution_count": 68,
     "metadata": {},
     "output_type": "execute_result"
    }
   ],
   "source": [
    "df_ccaa.head(1)"
   ]
  },
  {
   "cell_type": "code",
   "execution_count": 70,
   "metadata": {},
   "outputs": [],
   "source": [
    "df_ccaa[[\"percentage\", \"value\"]] = df_ccaa[[\"percentage\", \"value\"]].apply(lambda elemento : elemento.round(2))\n",
    "\n",
    "df_ccaa[\"fecha\"] = df_ccaa[\"datetime\"].str.split(\"T\", n = 1, expand = True).get(0).astype(\"datetime64[ns]\")"
   ]
  },
  {
   "cell_type": "code",
   "execution_count": 75,
   "metadata": {},
   "outputs": [
    {
     "data": {
      "text/html": [
       "<div>\n",
       "<style scoped>\n",
       "    .dataframe tbody tr th:only-of-type {\n",
       "        vertical-align: middle;\n",
       "    }\n",
       "\n",
       "    .dataframe tbody tr th {\n",
       "        vertical-align: top;\n",
       "    }\n",
       "\n",
       "    .dataframe thead th {\n",
       "        text-align: right;\n",
       "    }\n",
       "</style>\n",
       "<table border=\"1\" class=\"dataframe\">\n",
       "  <thead>\n",
       "    <tr style=\"text-align: right;\">\n",
       "      <th></th>\n",
       "      <th>value</th>\n",
       "      <th>percentage</th>\n",
       "      <th>datetime</th>\n",
       "      <th>id</th>\n",
       "      <th>tipo_energia</th>\n",
       "      <th>description</th>\n",
       "      <th>location</th>\n",
       "      <th>fecha</th>\n",
       "    </tr>\n",
       "  </thead>\n",
       "  <tbody>\n",
       "    <tr>\n",
       "      <th>0</th>\n",
       "      <td>202972.89</td>\n",
       "      <td>1.00</td>\n",
       "      <td>2011-01-01T00:00:00.000+01:00</td>\n",
       "      <td>10298</td>\n",
       "      <td>No renovable</td>\n",
       "      <td>NaN</td>\n",
       "      <td>Ceuta</td>\n",
       "      <td>2011-01-01</td>\n",
       "    </tr>\n",
       "    <tr>\n",
       "      <th>0</th>\n",
       "      <td>3589.08</td>\n",
       "      <td>0.02</td>\n",
       "      <td>2011-01-01T00:00:00.000+01:00</td>\n",
       "      <td>10299</td>\n",
       "      <td>Renovable</td>\n",
       "      <td>Energía renovable: incluye hidráulica, hidroeó...</td>\n",
       "      <td>Melilla</td>\n",
       "      <td>2011-01-01</td>\n",
       "    </tr>\n",
       "  </tbody>\n",
       "</table>\n",
       "</div>"
      ],
      "text/plain": [
       "       value  percentage                       datetime     id  tipo_energia  \\\n",
       "0  202972.89        1.00  2011-01-01T00:00:00.000+01:00  10298  No renovable   \n",
       "0    3589.08        0.02  2011-01-01T00:00:00.000+01:00  10299     Renovable   \n",
       "\n",
       "                                         description location      fecha  \n",
       "0                                                NaN    Ceuta 2011-01-01  \n",
       "0  Energía renovable: incluye hidráulica, hidroeó...  Melilla 2011-01-01  "
      ]
     },
     "execution_count": 75,
     "metadata": {},
     "output_type": "execute_result"
    }
   ],
   "source": [
    "df_ccaa.head(2)"
   ]
  },
  {
   "cell_type": "code",
   "execution_count": 72,
   "metadata": {},
   "outputs": [
    {
     "data": {
      "text/plain": [
       "value                  float64\n",
       "percentage             float64\n",
       "datetime                object\n",
       "id                       int64\n",
       "tipo_energia            object\n",
       "description             object\n",
       "location                object\n",
       "fecha           datetime64[ns]\n",
       "dtype: object"
      ]
     },
     "execution_count": 72,
     "metadata": {},
     "output_type": "execute_result"
    }
   ],
   "source": [
    "df_ccaa.dtypes"
   ]
  },
  {
   "cell_type": "markdown",
   "metadata": {},
   "source": [
    "4. Guardar los resultados obtenidos en pickle que usaremos en próximos ejercicios de pair programming. Cada fichero debe ir en un pickle"
   ]
  },
  {
   "cell_type": "code",
   "execution_count": 77,
   "metadata": {},
   "outputs": [],
   "source": [
    "df_energias.to_pickle(\"data/energias_años.pkl\")\n",
    "\n",
    "df_ccaa.to_pickle(\"data/energias_comunidades.pkl\")"
   ]
  }
 ],
 "metadata": {
  "kernelspec": {
   "display_name": "base",
   "language": "python",
   "name": "python3"
  },
  "language_info": {
   "codemirror_mode": {
    "name": "ipython",
    "version": 3
   },
   "file_extension": ".py",
   "mimetype": "text/x-python",
   "name": "python",
   "nbconvert_exporter": "python",
   "pygments_lexer": "ipython3",
   "version": "3.9.7"
  },
  "orig_nbformat": 4
 },
 "nbformat": 4,
 "nbformat_minor": 2
}
