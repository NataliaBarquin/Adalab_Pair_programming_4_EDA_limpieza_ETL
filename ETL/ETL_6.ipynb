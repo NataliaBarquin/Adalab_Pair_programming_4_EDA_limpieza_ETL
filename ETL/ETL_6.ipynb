{
 "cells": [
  {
   "cell_type": "markdown",
   "metadata": {},
   "source": [
    "### Pair Programming ETL Ejecutable - Pipeline\n",
    "\n",
    "___\n",
    "\n",
    "En la lección de hoy aprendimos como podemos crear un ejecutable. En este contexto, el objetivo del ejercicio de hoy es que creeis un ejecutable con todo el código que hemos ido creando durante las otras sesiones de pair programming ETL.\n",
    "\n",
    "Al final, debereis tener un archivo .py que lo ejecutemos en la terminal y nos actualice los datos, los limpie y nos los meta en SQL."
   ]
  },
  {
   "cell_type": "code",
   "execution_count": null,
   "metadata": {},
   "outputs": [],
   "source": []
  }
 ],
 "metadata": {
  "language_info": {
   "name": "python"
  },
  "orig_nbformat": 4
 },
 "nbformat": 4,
 "nbformat_minor": 2
}
