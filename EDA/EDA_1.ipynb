{
 "cells": [
  {
   "cell_type": "code",
   "execution_count": 2,
   "metadata": {},
   "outputs": [],
   "source": [
    "import pandas as pd"
   ]
  },
  {
   "cell_type": "markdown",
   "metadata": {},
   "source": [
    "1. Haced una exploración inicial del dataframe:\n",
    "- ¿Cuál es el número de filas y columnas?"
   ]
  },
  {
   "cell_type": "code",
   "execution_count": 3,
   "metadata": {},
   "outputs": [
    {
     "data": {
      "text/html": [
       "<div>\n",
       "<style scoped>\n",
       "    .dataframe tbody tr th:only-of-type {\n",
       "        vertical-align: middle;\n",
       "    }\n",
       "\n",
       "    .dataframe tbody tr th {\n",
       "        vertical-align: top;\n",
       "    }\n",
       "\n",
       "    .dataframe thead th {\n",
       "        text-align: right;\n",
       "    }\n",
       "</style>\n",
       "<table border=\"1\" class=\"dataframe\">\n",
       "  <thead>\n",
       "    <tr style=\"text-align: right;\">\n",
       "      <th></th>\n",
       "      <th>id_ticket</th>\n",
       "      <th>fecha</th>\n",
       "      <th>id_empleado</th>\n",
       "      <th>id_agente</th>\n",
       "      <th>categoría</th>\n",
       "      <th>tipo</th>\n",
       "      <th>severidad</th>\n",
       "      <th>prioridad</th>\n",
       "      <th>días_resolución</th>\n",
       "      <th>satisfacción</th>\n",
       "      <th>semestre</th>\n",
       "      <th>año</th>\n",
       "      <th>mes</th>\n",
       "    </tr>\n",
       "  </thead>\n",
       "  <tbody>\n",
       "    <tr>\n",
       "      <th>0</th>\n",
       "      <td>GDDENR-5042564453</td>\n",
       "      <td>2016-07-13</td>\n",
       "      <td>1735</td>\n",
       "      <td>4</td>\n",
       "      <td>Acceso/Login</td>\n",
       "      <td>Problema</td>\n",
       "      <td>0 - Sin Clasificar</td>\n",
       "      <td>0 - Sin Asignar</td>\n",
       "      <td>0</td>\n",
       "      <td>5</td>\n",
       "      <td>2º semestre</td>\n",
       "      <td>2016</td>\n",
       "      <td>Julio</td>\n",
       "    </tr>\n",
       "  </tbody>\n",
       "</table>\n",
       "</div>"
      ],
      "text/plain": [
       "           id_ticket       fecha  id_empleado  id_agente     categoría  \\\n",
       "0  GDDENR-5042564453  2016-07-13         1735          4  Acceso/Login   \n",
       "\n",
       "       tipo           severidad        prioridad  días_resolución  \\\n",
       "0  Problema  0 - Sin Clasificar  0 - Sin Asignar                0   \n",
       "\n",
       "   satisfacción     semestre   año    mes  \n",
       "0             5  2º semestre  2016  Julio  "
      ]
     },
     "execution_count": 3,
     "metadata": {},
     "output_type": "execute_result"
    }
   ],
   "source": [
    "df = pd.read_csv('data/historico_tickets_limpio_pandas.csv', index_col = 0)\n",
    "df.head(1)"
   ]
  },
  {
   "cell_type": "code",
   "execution_count": 4,
   "metadata": {},
   "outputs": [
    {
     "name": "stdout",
     "output_type": "stream",
     "text": [
      "En nuestro df tenemos 97386 filas y 13 columnas.\n"
     ]
    }
   ],
   "source": [
    "print(f'En nuestro df tenemos {df.shape[0]} filas y {df.shape[1]} columnas.')"
   ]
  },
  {
   "cell_type": "markdown",
   "metadata": {},
   "source": [
    "- ¿Cuál es el porcentaje de valores nulos en cada columna? Presenta los resultados en un dataframe, donde las columnas sean el nombre de las variables y el porcentaje de nulos."
   ]
  },
  {
   "cell_type": "code",
   "execution_count": 5,
   "metadata": {},
   "outputs": [
    {
     "data": {
      "text/html": [
       "<div>\n",
       "<style scoped>\n",
       "    .dataframe tbody tr th:only-of-type {\n",
       "        vertical-align: middle;\n",
       "    }\n",
       "\n",
       "    .dataframe tbody tr th {\n",
       "        vertical-align: top;\n",
       "    }\n",
       "\n",
       "    .dataframe thead th {\n",
       "        text-align: right;\n",
       "    }\n",
       "</style>\n",
       "<table border=\"1\" class=\"dataframe\">\n",
       "  <thead>\n",
       "    <tr style=\"text-align: right;\">\n",
       "      <th></th>\n",
       "      <th>id_ticket</th>\n",
       "      <th>fecha</th>\n",
       "      <th>id_empleado</th>\n",
       "      <th>id_agente</th>\n",
       "      <th>categoría</th>\n",
       "      <th>tipo</th>\n",
       "      <th>severidad</th>\n",
       "      <th>prioridad</th>\n",
       "      <th>días_resolución</th>\n",
       "      <th>satisfacción</th>\n",
       "      <th>semestre</th>\n",
       "      <th>año</th>\n",
       "      <th>mes</th>\n",
       "    </tr>\n",
       "  </thead>\n",
       "  <tbody>\n",
       "    <tr>\n",
       "      <th>0</th>\n",
       "      <td>0.0</td>\n",
       "      <td>0.0</td>\n",
       "      <td>0.0</td>\n",
       "      <td>0.0</td>\n",
       "      <td>0.0</td>\n",
       "      <td>0.0</td>\n",
       "      <td>0.0</td>\n",
       "      <td>0.0</td>\n",
       "      <td>0.0</td>\n",
       "      <td>0.0</td>\n",
       "      <td>0.0</td>\n",
       "      <td>0.0</td>\n",
       "      <td>0.0</td>\n",
       "    </tr>\n",
       "  </tbody>\n",
       "</table>\n",
       "</div>"
      ],
      "text/plain": [
       "   id_ticket  fecha  id_empleado  id_agente  categoría  tipo  severidad  \\\n",
       "0        0.0    0.0          0.0        0.0        0.0   0.0        0.0   \n",
       "\n",
       "   prioridad  días_resolución  satisfacción  semestre  año  mes  \n",
       "0        0.0              0.0           0.0       0.0  0.0  0.0  "
      ]
     },
     "execution_count": 5,
     "metadata": {},
     "output_type": "execute_result"
    }
   ],
   "source": [
    "pd.DataFrame(df.isnull().sum() * 100 / df.shape[0]).T"
   ]
  },
  {
   "cell_type": "markdown",
   "metadata": {},
   "source": [
    "- ¿Qué tipos de datos hay en cada columna?"
   ]
  },
  {
   "cell_type": "code",
   "execution_count": 6,
   "metadata": {},
   "outputs": [
    {
     "data": {
      "text/plain": [
       "id_ticket          object\n",
       "fecha              object\n",
       "id_empleado         int64\n",
       "id_agente           int64\n",
       "categoría          object\n",
       "tipo               object\n",
       "severidad          object\n",
       "prioridad          object\n",
       "días_resolución     int64\n",
       "satisfacción        int64\n",
       "semestre           object\n",
       "año                 int64\n",
       "mes                object\n",
       "dtype: object"
      ]
     },
     "execution_count": 6,
     "metadata": {},
     "output_type": "execute_result"
    }
   ],
   "source": [
    "df.dtypes"
   ]
  },
  {
   "cell_type": "markdown",
   "metadata": {},
   "source": [
    "- Extraed la información general del dataframe."
   ]
  },
  {
   "cell_type": "code",
   "execution_count": 7,
   "metadata": {},
   "outputs": [
    {
     "name": "stdout",
     "output_type": "stream",
     "text": [
      "<class 'pandas.core.frame.DataFrame'>\n",
      "Index: 97386 entries, 0 to 29087\n",
      "Data columns (total 13 columns):\n",
      " #   Column           Non-Null Count  Dtype \n",
      "---  ------           --------------  ----- \n",
      " 0   id_ticket        97386 non-null  object\n",
      " 1   fecha            97386 non-null  object\n",
      " 2   id_empleado      97386 non-null  int64 \n",
      " 3   id_agente        97386 non-null  int64 \n",
      " 4   categoría        97386 non-null  object\n",
      " 5   tipo             97386 non-null  object\n",
      " 6   severidad        97386 non-null  object\n",
      " 7   prioridad        97386 non-null  object\n",
      " 8   días_resolución  97386 non-null  int64 \n",
      " 9   satisfacción     97386 non-null  int64 \n",
      " 10  semestre         97386 non-null  object\n",
      " 11  año              97386 non-null  int64 \n",
      " 12  mes              97386 non-null  object\n",
      "dtypes: int64(5), object(8)\n",
      "memory usage: 10.4+ MB\n"
     ]
    }
   ],
   "source": [
    "df.info()"
   ]
  },
  {
   "cell_type": "markdown",
   "metadata": {},
   "source": [
    "2. Cread dos dataframes nuevos, uno que incluya solo las variables categóricas y otro que incluya solo las variables numéricas."
   ]
  },
  {
   "cell_type": "code",
   "execution_count": 8,
   "metadata": {},
   "outputs": [
    {
     "data": {
      "text/html": [
       "<div>\n",
       "<style scoped>\n",
       "    .dataframe tbody tr th:only-of-type {\n",
       "        vertical-align: middle;\n",
       "    }\n",
       "\n",
       "    .dataframe tbody tr th {\n",
       "        vertical-align: top;\n",
       "    }\n",
       "\n",
       "    .dataframe thead th {\n",
       "        text-align: right;\n",
       "    }\n",
       "</style>\n",
       "<table border=\"1\" class=\"dataframe\">\n",
       "  <thead>\n",
       "    <tr style=\"text-align: right;\">\n",
       "      <th></th>\n",
       "      <th>id_ticket</th>\n",
       "      <th>fecha</th>\n",
       "      <th>categoría</th>\n",
       "      <th>tipo</th>\n",
       "      <th>severidad</th>\n",
       "      <th>prioridad</th>\n",
       "      <th>semestre</th>\n",
       "      <th>mes</th>\n",
       "    </tr>\n",
       "  </thead>\n",
       "  <tbody>\n",
       "    <tr>\n",
       "      <th>0</th>\n",
       "      <td>GDDENR-5042564453</td>\n",
       "      <td>2016-07-13</td>\n",
       "      <td>Acceso/Login</td>\n",
       "      <td>Problema</td>\n",
       "      <td>0 - Sin Clasificar</td>\n",
       "      <td>0 - Sin Asignar</td>\n",
       "      <td>2º semestre</td>\n",
       "      <td>Julio</td>\n",
       "    </tr>\n",
       "  </tbody>\n",
       "</table>\n",
       "</div>"
      ],
      "text/plain": [
       "           id_ticket       fecha     categoría      tipo           severidad  \\\n",
       "0  GDDENR-5042564453  2016-07-13  Acceso/Login  Problema  0 - Sin Clasificar   \n",
       "\n",
       "         prioridad     semestre    mes  \n",
       "0  0 - Sin Asignar  2º semestre  Julio  "
      ]
     },
     "execution_count": 8,
     "metadata": {},
     "output_type": "execute_result"
    }
   ],
   "source": [
    "df_cat = df.select_dtypes(include = 'object')\n",
    "df_cat.head(1)"
   ]
  },
  {
   "cell_type": "code",
   "execution_count": 9,
   "metadata": {},
   "outputs": [
    {
     "data": {
      "text/html": [
       "<div>\n",
       "<style scoped>\n",
       "    .dataframe tbody tr th:only-of-type {\n",
       "        vertical-align: middle;\n",
       "    }\n",
       "\n",
       "    .dataframe tbody tr th {\n",
       "        vertical-align: top;\n",
       "    }\n",
       "\n",
       "    .dataframe thead th {\n",
       "        text-align: right;\n",
       "    }\n",
       "</style>\n",
       "<table border=\"1\" class=\"dataframe\">\n",
       "  <thead>\n",
       "    <tr style=\"text-align: right;\">\n",
       "      <th></th>\n",
       "      <th>id_empleado</th>\n",
       "      <th>id_agente</th>\n",
       "      <th>días_resolución</th>\n",
       "      <th>satisfacción</th>\n",
       "      <th>año</th>\n",
       "    </tr>\n",
       "  </thead>\n",
       "  <tbody>\n",
       "    <tr>\n",
       "      <th>0</th>\n",
       "      <td>1735</td>\n",
       "      <td>4</td>\n",
       "      <td>0</td>\n",
       "      <td>5</td>\n",
       "      <td>2016</td>\n",
       "    </tr>\n",
       "  </tbody>\n",
       "</table>\n",
       "</div>"
      ],
      "text/plain": [
       "   id_empleado  id_agente  días_resolución  satisfacción   año\n",
       "0         1735          4                0             5  2016"
      ]
     },
     "execution_count": 9,
     "metadata": {},
     "output_type": "execute_result"
    }
   ],
   "source": [
    "df_num = df.select_dtypes(include = 'int64')\n",
    "df_num.head(1)"
   ]
  },
  {
   "cell_type": "markdown",
   "metadata": {},
   "source": [
    "- ¿Cuáles son los principales estádisticos de los dataframes?"
   ]
  },
  {
   "cell_type": "code",
   "execution_count": 10,
   "metadata": {},
   "outputs": [
    {
     "data": {
      "text/html": [
       "<div>\n",
       "<style scoped>\n",
       "    .dataframe tbody tr th:only-of-type {\n",
       "        vertical-align: middle;\n",
       "    }\n",
       "\n",
       "    .dataframe tbody tr th {\n",
       "        vertical-align: top;\n",
       "    }\n",
       "\n",
       "    .dataframe thead th {\n",
       "        text-align: right;\n",
       "    }\n",
       "</style>\n",
       "<table border=\"1\" class=\"dataframe\">\n",
       "  <thead>\n",
       "    <tr style=\"text-align: right;\">\n",
       "      <th></th>\n",
       "      <th>count</th>\n",
       "      <th>unique</th>\n",
       "      <th>top</th>\n",
       "      <th>freq</th>\n",
       "    </tr>\n",
       "  </thead>\n",
       "  <tbody>\n",
       "    <tr>\n",
       "      <th>id_ticket</th>\n",
       "      <td>97386</td>\n",
       "      <td>97386</td>\n",
       "      <td>GDDENR-5042564453</td>\n",
       "      <td>1</td>\n",
       "    </tr>\n",
       "    <tr>\n",
       "      <th>fecha</th>\n",
       "      <td>97386</td>\n",
       "      <td>1827</td>\n",
       "      <td>2020-02-20</td>\n",
       "      <td>105</td>\n",
       "    </tr>\n",
       "    <tr>\n",
       "      <th>categoría</th>\n",
       "      <td>97386</td>\n",
       "      <td>4</td>\n",
       "      <td>Sistema</td>\n",
       "      <td>38961</td>\n",
       "    </tr>\n",
       "    <tr>\n",
       "      <th>tipo</th>\n",
       "      <td>97386</td>\n",
       "      <td>2</td>\n",
       "      <td>Solicitud</td>\n",
       "      <td>73138</td>\n",
       "    </tr>\n",
       "    <tr>\n",
       "      <th>severidad</th>\n",
       "      <td>97386</td>\n",
       "      <td>5</td>\n",
       "      <td>2 - Normal</td>\n",
       "      <td>88555</td>\n",
       "    </tr>\n",
       "    <tr>\n",
       "      <th>prioridad</th>\n",
       "      <td>97386</td>\n",
       "      <td>4</td>\n",
       "      <td>3 - Alta</td>\n",
       "      <td>35511</td>\n",
       "    </tr>\n",
       "    <tr>\n",
       "      <th>semestre</th>\n",
       "      <td>97386</td>\n",
       "      <td>2</td>\n",
       "      <td>2º semestre</td>\n",
       "      <td>49876</td>\n",
       "    </tr>\n",
       "    <tr>\n",
       "      <th>mes</th>\n",
       "      <td>97386</td>\n",
       "      <td>12</td>\n",
       "      <td>Octubre</td>\n",
       "      <td>8487</td>\n",
       "    </tr>\n",
       "  </tbody>\n",
       "</table>\n",
       "</div>"
      ],
      "text/plain": [
       "           count unique                top   freq\n",
       "id_ticket  97386  97386  GDDENR-5042564453      1\n",
       "fecha      97386   1827         2020-02-20    105\n",
       "categoría  97386      4            Sistema  38961\n",
       "tipo       97386      2          Solicitud  73138\n",
       "severidad  97386      5         2 - Normal  88555\n",
       "prioridad  97386      4           3 - Alta  35511\n",
       "semestre   97386      2        2º semestre  49876\n",
       "mes        97386     12            Octubre   8487"
      ]
     },
     "execution_count": 10,
     "metadata": {},
     "output_type": "execute_result"
    }
   ],
   "source": [
    "df_cat.describe().T"
   ]
  },
  {
   "cell_type": "markdown",
   "metadata": {},
   "source": [
    "Observamos que se producen más incidencias en el 2º semestre, especialmente en el mes de octubre. Quizás pueda estar relacionado con la vuelta al trabajo después de las vacaciones.\n",
    "La mayoría de tickets tiene asiganda una prioridad de 3 (alta), pero con una severidad 2 (normal).\n",
    "La mayoría de tickets son de tipo solicitud.\n",
    "La mayoría de tickets están dentro de la categoría Sistema."
   ]
  },
  {
   "cell_type": "code",
   "execution_count": 11,
   "metadata": {},
   "outputs": [
    {
     "data": {
      "text/html": [
       "<div>\n",
       "<style scoped>\n",
       "    .dataframe tbody tr th:only-of-type {\n",
       "        vertical-align: middle;\n",
       "    }\n",
       "\n",
       "    .dataframe tbody tr th {\n",
       "        vertical-align: top;\n",
       "    }\n",
       "\n",
       "    .dataframe thead th {\n",
       "        text-align: right;\n",
       "    }\n",
       "</style>\n",
       "<table border=\"1\" class=\"dataframe\">\n",
       "  <thead>\n",
       "    <tr style=\"text-align: right;\">\n",
       "      <th></th>\n",
       "      <th>count</th>\n",
       "      <th>mean</th>\n",
       "      <th>std</th>\n",
       "      <th>min</th>\n",
       "      <th>25%</th>\n",
       "      <th>50%</th>\n",
       "      <th>75%</th>\n",
       "      <th>max</th>\n",
       "    </tr>\n",
       "  </thead>\n",
       "  <tbody>\n",
       "    <tr>\n",
       "      <th>id_empleado</th>\n",
       "      <td>97386.0</td>\n",
       "      <td>999.160639</td>\n",
       "      <td>577.407222</td>\n",
       "      <td>1.0</td>\n",
       "      <td>500.0</td>\n",
       "      <td>999.0</td>\n",
       "      <td>1499.0</td>\n",
       "      <td>2000.0</td>\n",
       "    </tr>\n",
       "    <tr>\n",
       "      <th>id_agente</th>\n",
       "      <td>97386.0</td>\n",
       "      <td>25.468856</td>\n",
       "      <td>14.449455</td>\n",
       "      <td>1.0</td>\n",
       "      <td>13.0</td>\n",
       "      <td>26.0</td>\n",
       "      <td>38.0</td>\n",
       "      <td>50.0</td>\n",
       "    </tr>\n",
       "    <tr>\n",
       "      <th>días_resolución</th>\n",
       "      <td>97386.0</td>\n",
       "      <td>4.552749</td>\n",
       "      <td>4.365432</td>\n",
       "      <td>0.0</td>\n",
       "      <td>0.0</td>\n",
       "      <td>4.0</td>\n",
       "      <td>7.0</td>\n",
       "      <td>21.0</td>\n",
       "    </tr>\n",
       "    <tr>\n",
       "      <th>satisfacción</th>\n",
       "      <td>97386.0</td>\n",
       "      <td>4.100990</td>\n",
       "      <td>1.257093</td>\n",
       "      <td>1.0</td>\n",
       "      <td>4.0</td>\n",
       "      <td>5.0</td>\n",
       "      <td>5.0</td>\n",
       "      <td>5.0</td>\n",
       "    </tr>\n",
       "    <tr>\n",
       "      <th>año</th>\n",
       "      <td>97386.0</td>\n",
       "      <td>2018.399164</td>\n",
       "      <td>1.393095</td>\n",
       "      <td>2016.0</td>\n",
       "      <td>2017.0</td>\n",
       "      <td>2019.0</td>\n",
       "      <td>2020.0</td>\n",
       "      <td>2020.0</td>\n",
       "    </tr>\n",
       "  </tbody>\n",
       "</table>\n",
       "</div>"
      ],
      "text/plain": [
       "                   count         mean         std     min     25%     50%  \\\n",
       "id_empleado      97386.0   999.160639  577.407222     1.0   500.0   999.0   \n",
       "id_agente        97386.0    25.468856   14.449455     1.0    13.0    26.0   \n",
       "días_resolución  97386.0     4.552749    4.365432     0.0     0.0     4.0   \n",
       "satisfacción     97386.0     4.100990    1.257093     1.0     4.0     5.0   \n",
       "año              97386.0  2018.399164    1.393095  2016.0  2017.0  2019.0   \n",
       "\n",
       "                    75%     max  \n",
       "id_empleado      1499.0  2000.0  \n",
       "id_agente          38.0    50.0  \n",
       "días_resolución     7.0    21.0  \n",
       "satisfacción        5.0     5.0  \n",
       "año              2020.0  2020.0  "
      ]
     },
     "execution_count": 11,
     "metadata": {},
     "output_type": "execute_result"
    }
   ],
   "source": [
    "df_num.describe().T"
   ]
  },
  {
   "cell_type": "markdown",
   "metadata": {},
   "source": [
    "Extraed los valores únicos."
   ]
  },
  {
   "cell_type": "code",
   "execution_count": 12,
   "metadata": {},
   "outputs": [
    {
     "name": "stdout",
     "output_type": "stream",
     "text": [
      "En la columna categoría tenemos los siguientes valores unicos\n",
      "              count\n",
      "categoría          \n",
      "Sistema       38961\n",
      "Acceso/Login  29165\n",
      "Software      19543\n",
      "Hardware       9717\n",
      "\n",
      " ------------------------------------------------------------ \n",
      "\n",
      "En la columna tipo tenemos los siguientes valores unicos\n",
      "           count\n",
      "tipo            \n",
      "Solicitud  73138\n",
      "Problema   24248\n",
      "\n",
      " ------------------------------------------------------------ \n",
      "\n",
      "En la columna severidad tenemos los siguientes valores unicos\n",
      "                    count\n",
      "severidad                \n",
      "2 - Normal          88555\n",
      "3 - Mayor            4831\n",
      "1 - Menor            2254\n",
      "4 - Crítico          1390\n",
      "0 - Sin Clasificar    356\n",
      "\n",
      " ------------------------------------------------------------ \n",
      "\n",
      "En la columna prioridad tenemos los siguientes valores unicos\n",
      "                 count\n",
      "prioridad             \n",
      "3 - Alta         35511\n",
      "0 - Sin Asignar  29376\n",
      "1 - Baja         16670\n",
      "2 - Media        15829\n",
      "\n",
      " ------------------------------------------------------------ \n",
      "\n"
     ]
    }
   ],
   "source": [
    "columnas_cat = ['categoría', 'tipo', 'severidad', 'prioridad']\n",
    "\n",
    "for col in df_cat[columnas_cat].columns:\n",
    "    print(f\"En la columna {col} tenemos los siguientes valores unicos\")\n",
    "    print(pd.DataFrame(df_cat[col].value_counts()))\n",
    "    print(\"\\n\", \"------------------------------------------------------------\", \"\\n\")"
   ]
  },
  {
   "cell_type": "markdown",
   "metadata": {},
   "source": [
    "**BONUS** presenta los resultados en un dataframe. Os deberá quedar algo como esto:"
   ]
  },
  {
   "cell_type": "code",
   "execution_count": 13,
   "metadata": {},
   "outputs": [],
   "source": [
    "diccionario = {}"
   ]
  },
  {
   "cell_type": "code",
   "execution_count": 14,
   "metadata": {},
   "outputs": [],
   "source": [
    "for col in df_cat[columnas_cat].columns:\n",
    "    diccionario[col] = list(df_cat[col].unique())\n",
    "    "
   ]
  },
  {
   "cell_type": "code",
   "execution_count": 15,
   "metadata": {},
   "outputs": [],
   "source": [
    "serie_1 = []\n",
    "serie_2 = []\n",
    "\n",
    "for col in df_cat[columnas_cat].columns:\n",
    "    serie_1.append(col)\n",
    "    serie_2.append(list(df_cat[col].unique()))"
   ]
  },
  {
   "cell_type": "code",
   "execution_count": 25,
   "metadata": {},
   "outputs": [
    {
     "data": {
      "text/plain": [
       "0    categoría\n",
       "1         tipo\n",
       "2    severidad\n",
       "3    prioridad\n",
       "dtype: object"
      ]
     },
     "execution_count": 25,
     "metadata": {},
     "output_type": "execute_result"
    }
   ],
   "source": [
    "serie_1"
   ]
  },
  {
   "cell_type": "code",
   "execution_count": 16,
   "metadata": {},
   "outputs": [
    {
     "data": {
      "text/plain": [
       "[['Acceso/Login', 'Sistema', 'Software', 'Hardware'],\n",
       " ['Problema', 'Solicitud'],\n",
       " ['0 - Sin Clasificar', '2 - Normal', '4 - Crítico', '3 - Mayor', '1 - Menor'],\n",
       " ['0 - Sin Asignar', '3 - Alta', '2 - Media', '1 - Baja']]"
      ]
     },
     "execution_count": 16,
     "metadata": {},
     "output_type": "execute_result"
    }
   ],
   "source": [
    "serie_2"
   ]
  },
  {
   "cell_type": "code",
   "execution_count": 17,
   "metadata": {},
   "outputs": [],
   "source": [
    "data = {\"variable\" : serie_1,\n",
    "        \"n_unicos\" : serie_2}\n",
    "\n",
    "\n",
    "dataframe = pd.DataFrame(data)\n"
   ]
  },
  {
   "cell_type": "code",
   "execution_count": 24,
   "metadata": {},
   "outputs": [
    {
     "data": {
      "text/html": [
       "<div>\n",
       "<style scoped>\n",
       "    .dataframe tbody tr th:only-of-type {\n",
       "        vertical-align: middle;\n",
       "    }\n",
       "\n",
       "    .dataframe tbody tr th {\n",
       "        vertical-align: top;\n",
       "    }\n",
       "\n",
       "    .dataframe thead th {\n",
       "        text-align: right;\n",
       "    }\n",
       "</style>\n",
       "<table border=\"1\" class=\"dataframe\">\n",
       "  <thead>\n",
       "    <tr style=\"text-align: right;\">\n",
       "      <th></th>\n",
       "      <th>variable</th>\n",
       "      <th>n_unicos</th>\n",
       "    </tr>\n",
       "  </thead>\n",
       "  <tbody>\n",
       "    <tr>\n",
       "      <th>0</th>\n",
       "      <td>categoría</td>\n",
       "      <td>[Acceso/Login, Sistema, Software, Hardware]</td>\n",
       "    </tr>\n",
       "  </tbody>\n",
       "</table>\n",
       "</div>"
      ],
      "text/plain": [
       "    variable                                     n_unicos\n",
       "0  categoría  [Acceso/Login, Sistema, Software, Hardware]"
      ]
     },
     "execution_count": 24,
     "metadata": {},
     "output_type": "execute_result"
    }
   ],
   "source": [
    "dataframe.head(1)"
   ]
  },
  {
   "cell_type": "markdown",
   "metadata": {},
   "source": [
    "- ¿Hay alguna columna que no tenga sentido su tipo de datos?\n",
    "\n",
    "    - Hemos observado que la columna realmente es categórica pero nos interesa mantenerla como númerica para poder sacar estadísticos.\n",
    "    - La variable fecha la pasaremos a formato datetime, y año la pasaremos a formato object.\n",
    "\n",
    "- ¿Hay alguna columna que no tenga sentido su nombre?\n",
    "\n",
    "    - No, el nombre está correctamente reflejado en todas ellas.\n",
    "\n",
    "- ¿Hay alguna columna que no tenga sentido su contenido?\n",
    "\n",
    "    - Puede ser redundante tener una columna con fecha y por separado otras columnas con año y mes.\n",
    "\n",
    "- ¿Hay alguna columna que tenga demasiadas categorías o valores que nos pueda hacer difícil trabajar con ella?\n",
    "\n",
    "    - No.\n"
   ]
  }
 ],
 "metadata": {
  "kernelspec": {
   "display_name": "adalabenv",
   "language": "python",
   "name": "python3"
  },
  "language_info": {
   "codemirror_mode": {
    "name": "ipython",
    "version": 3
   },
   "file_extension": ".py",
   "mimetype": "text/x-python",
   "name": "python",
   "nbconvert_exporter": "python",
   "pygments_lexer": "ipython3",
   "version": "3.9.7"
  },
  "orig_nbformat": 4
 },
 "nbformat": 4,
 "nbformat_minor": 2
}
