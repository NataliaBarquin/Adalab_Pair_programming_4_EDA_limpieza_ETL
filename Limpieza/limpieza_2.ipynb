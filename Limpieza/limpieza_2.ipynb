{
 "cells": [
  {
   "cell_type": "markdown",
   "metadata": {},
   "source": [
    "# Limpieza 2"
   ]
  },
  {
   "cell_type": "code",
   "execution_count": 26,
   "metadata": {},
   "outputs": [],
   "source": [
    "import pandas as pd\n",
    "import numpy as np"
   ]
  },
  {
   "cell_type": "code",
   "execution_count": 27,
   "metadata": {},
   "outputs": [
    {
     "data": {
      "text/html": [
       "<div>\n",
       "<style scoped>\n",
       "    .dataframe tbody tr th:only-of-type {\n",
       "        vertical-align: middle;\n",
       "    }\n",
       "\n",
       "    .dataframe tbody tr th {\n",
       "        vertical-align: top;\n",
       "    }\n",
       "\n",
       "    .dataframe thead th {\n",
       "        text-align: right;\n",
       "    }\n",
       "</style>\n",
       "<table border=\"1\" class=\"dataframe\">\n",
       "  <thead>\n",
       "    <tr style=\"text-align: right;\">\n",
       "      <th></th>\n",
       "      <th>age</th>\n",
       "      <th>job</th>\n",
       "      <th>marital</th>\n",
       "      <th>education</th>\n",
       "      <th>default</th>\n",
       "      <th>housing</th>\n",
       "      <th>loan</th>\n",
       "      <th>contact</th>\n",
       "      <th>duration</th>\n",
       "      <th>campaign</th>\n",
       "      <th>pdays</th>\n",
       "      <th>previous</th>\n",
       "      <th>poutcome</th>\n",
       "      <th>emp,var,rate</th>\n",
       "      <th>cons,price,idx</th>\n",
       "      <th>cons,conf,idx</th>\n",
       "      <th>euribor3m</th>\n",
       "      <th>nr,employed</th>\n",
       "      <th>y</th>\n",
       "      <th>month_day_week</th>\n",
       "    </tr>\n",
       "  </thead>\n",
       "  <tbody>\n",
       "    <tr>\n",
       "      <th>0</th>\n",
       "      <td>56</td>\n",
       "      <td>housemaid</td>\n",
       "      <td>married</td>\n",
       "      <td>basic.4y</td>\n",
       "      <td>0.0</td>\n",
       "      <td>0.0</td>\n",
       "      <td>0.0</td>\n",
       "      <td>telephone</td>\n",
       "      <td>261</td>\n",
       "      <td>1</td>\n",
       "      <td>999</td>\n",
       "      <td>0</td>\n",
       "      <td>nonexistent</td>\n",
       "      <td>1.1</td>\n",
       "      <td>93.994</td>\n",
       "      <td>-36.4</td>\n",
       "      <td>4.857</td>\n",
       "      <td>5191,0</td>\n",
       "      <td>no</td>\n",
       "      <td>['may', 'mon']</td>\n",
       "    </tr>\n",
       "  </tbody>\n",
       "</table>\n",
       "</div>"
      ],
      "text/plain": [
       "   age        job  marital education  default  housing  loan    contact  \\\n",
       "0   56  housemaid  married  basic.4y      0.0      0.0   0.0  telephone   \n",
       "\n",
       "   duration  campaign  pdays  previous     poutcome  emp,var,rate  \\\n",
       "0       261         1    999         0  nonexistent           1.1   \n",
       "\n",
       "   cons,price,idx  cons,conf,idx  euribor3m nr,employed   y  month_day_week  \n",
       "0          93.994          -36.4      4.857      5191,0  no  ['may', 'mon']  "
      ]
     },
     "execution_count": 27,
     "metadata": {},
     "output_type": "execute_result"
    }
   ],
   "source": [
    "df = pd.read_csv(\"data/bank_clean.csv\", index_col = 0)\n",
    "df.head(1)"
   ]
  },
  {
   "cell_type": "code",
   "execution_count": 28,
   "metadata": {},
   "outputs": [
    {
     "data": {
      "text/plain": [
       "age                 int64\n",
       "job                object\n",
       "marital            object\n",
       "education          object\n",
       "default           float64\n",
       "housing           float64\n",
       "loan              float64\n",
       "contact            object\n",
       "duration            int64\n",
       "campaign            int64\n",
       "pdays               int64\n",
       "previous            int64\n",
       "poutcome           object\n",
       "emp,var,rate      float64\n",
       "cons,price,idx    float64\n",
       "cons,conf,idx     float64\n",
       "euribor3m         float64\n",
       "nr,employed        object\n",
       "y                  object\n",
       "month_day_week     object\n",
       "dtype: object"
      ]
     },
     "execution_count": 28,
     "metadata": {},
     "output_type": "execute_result"
    }
   ],
   "source": [
    "df.dtypes"
   ]
  },
  {
   "cell_type": "markdown",
   "metadata": {},
   "source": [
    "#### En este ejercicio nos queda por limpiar algunas columnas del conjunto de datos."
   ]
  },
  {
   "cell_type": "markdown",
   "metadata": {},
   "source": [
    "1. Columnas `loan`, `housing` y `default`: estas columnas contienen valores únicos de 0 y 1. Esto puede parecer poco intuitivo a la hora de la extracción de conclusiones y en las visualizaciones. El objetivo de este ejercicio es que cambies los valores númericos por \"Si\" y \"No\". A que corresponde cada uno de los valores lo tenéis en el pair de Limpieza I."
   ]
  },
  {
   "cell_type": "code",
   "execution_count": 29,
   "metadata": {},
   "outputs": [
    {
     "data": {
      "text/html": [
       "<div>\n",
       "<style scoped>\n",
       "    .dataframe tbody tr th:only-of-type {\n",
       "        vertical-align: middle;\n",
       "    }\n",
       "\n",
       "    .dataframe tbody tr th {\n",
       "        vertical-align: top;\n",
       "    }\n",
       "\n",
       "    .dataframe thead th {\n",
       "        text-align: right;\n",
       "    }\n",
       "</style>\n",
       "<table border=\"1\" class=\"dataframe\">\n",
       "  <thead>\n",
       "    <tr style=\"text-align: right;\">\n",
       "      <th></th>\n",
       "      <th>age</th>\n",
       "      <th>job</th>\n",
       "      <th>marital</th>\n",
       "      <th>education</th>\n",
       "      <th>default</th>\n",
       "      <th>housing</th>\n",
       "      <th>loan</th>\n",
       "      <th>contact</th>\n",
       "      <th>duration</th>\n",
       "      <th>campaign</th>\n",
       "      <th>pdays</th>\n",
       "      <th>previous</th>\n",
       "      <th>poutcome</th>\n",
       "      <th>emp,var,rate</th>\n",
       "      <th>cons,price,idx</th>\n",
       "      <th>cons,conf,idx</th>\n",
       "      <th>euribor3m</th>\n",
       "      <th>nr,employed</th>\n",
       "      <th>y</th>\n",
       "      <th>month_day_week</th>\n",
       "    </tr>\n",
       "  </thead>\n",
       "  <tbody>\n",
       "    <tr>\n",
       "      <th>0</th>\n",
       "      <td>56</td>\n",
       "      <td>housemaid</td>\n",
       "      <td>married</td>\n",
       "      <td>basic.4y</td>\n",
       "      <td>No</td>\n",
       "      <td>No</td>\n",
       "      <td>No</td>\n",
       "      <td>telephone</td>\n",
       "      <td>261</td>\n",
       "      <td>1</td>\n",
       "      <td>999</td>\n",
       "      <td>0</td>\n",
       "      <td>nonexistent</td>\n",
       "      <td>1.1</td>\n",
       "      <td>93.994</td>\n",
       "      <td>-36.4</td>\n",
       "      <td>4.857</td>\n",
       "      <td>5191,0</td>\n",
       "      <td>no</td>\n",
       "      <td>['may', 'mon']</td>\n",
       "    </tr>\n",
       "  </tbody>\n",
       "</table>\n",
       "</div>"
      ],
      "text/plain": [
       "   age        job  marital education default housing loan    contact  \\\n",
       "0   56  housemaid  married  basic.4y      No      No   No  telephone   \n",
       "\n",
       "   duration  campaign  pdays  previous     poutcome  emp,var,rate  \\\n",
       "0       261         1    999         0  nonexistent           1.1   \n",
       "\n",
       "   cons,price,idx  cons,conf,idx  euribor3m nr,employed   y  month_day_week  \n",
       "0          93.994          -36.4      4.857      5191,0  no  ['may', 'mon']  "
      ]
     },
     "execution_count": 29,
     "metadata": {},
     "output_type": "execute_result"
    }
   ],
   "source": [
    "conv = {0 : \"No\",\n",
    "        1 : \"Sí\"}\n",
    "\n",
    "columnas = [\"loan\", \"housing\", \"default\"]\n",
    "\n",
    "for col in columnas:\n",
    "        df[col] = df[col].map(conv, na_action = \"ignore\")\n",
    "\n",
    "\n",
    "df.head(1)\n"
   ]
  },
  {
   "cell_type": "markdown",
   "metadata": {},
   "source": [
    "2. Para la columna de `education`, si nos fijamos en sus valores únicos veremos que tenemos puntos. El objetivo de este ejercicio es que quitéis los puntos de esos valores y los reemplacéis por espacios."
   ]
  },
  {
   "cell_type": "code",
   "execution_count": 30,
   "metadata": {},
   "outputs": [
    {
     "data": {
      "text/plain": [
       "array(['basic 4y', 'high school', 'basic 6y', 'basic 9y',\n",
       "       'professional course', nan, 'university degree', 'illiterate'],\n",
       "      dtype=object)"
      ]
     },
     "execution_count": 30,
     "metadata": {},
     "output_type": "execute_result"
    }
   ],
   "source": [
    "def cambio(elemento):\n",
    "    try:\n",
    "        return elemento.replace(\".\", \" \")\n",
    "    except:\n",
    "        return np.nan\n",
    "\n",
    "\n",
    "df[\"education\"] = df[\"education\"].apply(cambio)\n",
    "\n",
    "df[\"education\"].unique()"
   ]
  },
  {
   "cell_type": "markdown",
   "metadata": {},
   "source": [
    "3. Para la columna `job`, hay un valor único que esta abreviado (admin.), cambiad la abreviatura por el nombre completo."
   ]
  },
  {
   "cell_type": "code",
   "execution_count": 31,
   "metadata": {},
   "outputs": [
    {
     "data": {
      "text/plain": [
       "array(['housemaid', 'services', 'admin.', 'blue-collar', 'technician',\n",
       "       'retired', 'management', 'unemployed', 'self-employed', nan,\n",
       "       'entrepreneur', 'student'], dtype=object)"
      ]
     },
     "execution_count": 31,
     "metadata": {},
     "output_type": "execute_result"
    }
   ],
   "source": [
    "df[\"job\"].unique()"
   ]
  },
  {
   "cell_type": "code",
   "execution_count": 32,
   "metadata": {},
   "outputs": [],
   "source": [
    "def admin(elemento):\n",
    "    try:\n",
    "        if elemento == \"admin.\":\n",
    "            return \"administration\"\n",
    "        else:\n",
    "            return elemento\n",
    "    except:\n",
    "        return np.nan\n",
    "\n",
    "\n",
    "df[\"job\"] = df[\"job\"].apply(admin)"
   ]
  },
  {
   "cell_type": "code",
   "execution_count": 33,
   "metadata": {},
   "outputs": [
    {
     "data": {
      "text/plain": [
       "array(['housemaid', 'services', 'administration', 'blue-collar',\n",
       "       'technician', 'retired', 'management', 'unemployed',\n",
       "       'self-employed', nan, 'entrepreneur', 'student'], dtype=object)"
      ]
     },
     "execution_count": 33,
     "metadata": {},
     "output_type": "execute_result"
    }
   ],
   "source": [
    "df[\"job\"].unique()"
   ]
  },
  {
   "cell_type": "markdown",
   "metadata": {},
   "source": [
    "4. La columna `month_day_week` tiene una lista que contiene información muy diferente. El objetivo de este ejercicio es separar esta columna en dos nuevas, donde tengamos los meses en una columna y los días de la semana en otra."
   ]
  },
  {
   "cell_type": "code",
   "execution_count": 34,
   "metadata": {},
   "outputs": [
    {
     "data": {
      "text/html": [
       "<div>\n",
       "<style scoped>\n",
       "    .dataframe tbody tr th:only-of-type {\n",
       "        vertical-align: middle;\n",
       "    }\n",
       "\n",
       "    .dataframe tbody tr th {\n",
       "        vertical-align: top;\n",
       "    }\n",
       "\n",
       "    .dataframe thead th {\n",
       "        text-align: right;\n",
       "    }\n",
       "</style>\n",
       "<table border=\"1\" class=\"dataframe\">\n",
       "  <thead>\n",
       "    <tr style=\"text-align: right;\">\n",
       "      <th></th>\n",
       "      <th>age</th>\n",
       "      <th>job</th>\n",
       "      <th>marital</th>\n",
       "      <th>education</th>\n",
       "      <th>default</th>\n",
       "      <th>housing</th>\n",
       "      <th>loan</th>\n",
       "      <th>contact</th>\n",
       "      <th>duration</th>\n",
       "      <th>campaign</th>\n",
       "      <th>pdays</th>\n",
       "      <th>previous</th>\n",
       "      <th>poutcome</th>\n",
       "      <th>emp,var,rate</th>\n",
       "      <th>cons,price,idx</th>\n",
       "      <th>cons,conf,idx</th>\n",
       "      <th>euribor3m</th>\n",
       "      <th>nr,employed</th>\n",
       "      <th>y</th>\n",
       "      <th>month_day_week</th>\n",
       "    </tr>\n",
       "  </thead>\n",
       "  <tbody>\n",
       "    <tr>\n",
       "      <th>38310</th>\n",
       "      <td>37</td>\n",
       "      <td>blue-collar</td>\n",
       "      <td>married</td>\n",
       "      <td>basic 6y</td>\n",
       "      <td>No</td>\n",
       "      <td>No</td>\n",
       "      <td>No</td>\n",
       "      <td>cellular</td>\n",
       "      <td>244</td>\n",
       "      <td>1</td>\n",
       "      <td>999</td>\n",
       "      <td>0</td>\n",
       "      <td>nonexistent</td>\n",
       "      <td>-3.4</td>\n",
       "      <td>92.431</td>\n",
       "      <td>-26.9</td>\n",
       "      <td>0.74</td>\n",
       "      <td>5017,5</td>\n",
       "      <td>no</td>\n",
       "      <td>['oct', 'thu']</td>\n",
       "    </tr>\n",
       "  </tbody>\n",
       "</table>\n",
       "</div>"
      ],
      "text/plain": [
       "       age          job  marital education default housing loan   contact  \\\n",
       "38310   37  blue-collar  married  basic 6y      No      No   No  cellular   \n",
       "\n",
       "       duration  campaign  pdays  previous     poutcome  emp,var,rate  \\\n",
       "38310       244         1    999         0  nonexistent          -3.4   \n",
       "\n",
       "       cons,price,idx  cons,conf,idx  euribor3m nr,employed   y  \\\n",
       "38310          92.431          -26.9       0.74      5017,5  no   \n",
       "\n",
       "       month_day_week  \n",
       "38310  ['oct', 'thu']  "
      ]
     },
     "execution_count": 34,
     "metadata": {},
     "output_type": "execute_result"
    }
   ],
   "source": [
    "df.sample(1)"
   ]
  },
  {
   "cell_type": "code",
   "execution_count": 39,
   "metadata": {},
   "outputs": [],
   "source": [
    "df[\"month_day_week\"] = df[\"month_day_week\"].apply(lambda elemento : elemento.replace(\"[\", \"\").replace(\"'\", \"\").replace(\"]\", \"\"))"
   ]
  },
  {
   "cell_type": "code",
   "execution_count": 40,
   "metadata": {},
   "outputs": [],
   "source": [
    "df[[\"month\", \"day\"]] = df[\"month_day_week\"].str.split(\",\", expand = True)"
   ]
  },
  {
   "cell_type": "code",
   "execution_count": 41,
   "metadata": {},
   "outputs": [
    {
     "data": {
      "text/html": [
       "<div>\n",
       "<style scoped>\n",
       "    .dataframe tbody tr th:only-of-type {\n",
       "        vertical-align: middle;\n",
       "    }\n",
       "\n",
       "    .dataframe tbody tr th {\n",
       "        vertical-align: top;\n",
       "    }\n",
       "\n",
       "    .dataframe thead th {\n",
       "        text-align: right;\n",
       "    }\n",
       "</style>\n",
       "<table border=\"1\" class=\"dataframe\">\n",
       "  <thead>\n",
       "    <tr style=\"text-align: right;\">\n",
       "      <th></th>\n",
       "      <th>age</th>\n",
       "      <th>job</th>\n",
       "      <th>marital</th>\n",
       "      <th>education</th>\n",
       "      <th>default</th>\n",
       "      <th>housing</th>\n",
       "      <th>loan</th>\n",
       "      <th>contact</th>\n",
       "      <th>duration</th>\n",
       "      <th>campaign</th>\n",
       "      <th>...</th>\n",
       "      <th>poutcome</th>\n",
       "      <th>emp,var,rate</th>\n",
       "      <th>cons,price,idx</th>\n",
       "      <th>cons,conf,idx</th>\n",
       "      <th>euribor3m</th>\n",
       "      <th>nr,employed</th>\n",
       "      <th>y</th>\n",
       "      <th>month_day_week</th>\n",
       "      <th>month</th>\n",
       "      <th>day</th>\n",
       "    </tr>\n",
       "  </thead>\n",
       "  <tbody>\n",
       "    <tr>\n",
       "      <th>0</th>\n",
       "      <td>56</td>\n",
       "      <td>housemaid</td>\n",
       "      <td>married</td>\n",
       "      <td>basic 4y</td>\n",
       "      <td>No</td>\n",
       "      <td>No</td>\n",
       "      <td>No</td>\n",
       "      <td>telephone</td>\n",
       "      <td>261</td>\n",
       "      <td>1</td>\n",
       "      <td>...</td>\n",
       "      <td>nonexistent</td>\n",
       "      <td>1.1</td>\n",
       "      <td>93.994</td>\n",
       "      <td>-36.4</td>\n",
       "      <td>4.857</td>\n",
       "      <td>5191,0</td>\n",
       "      <td>no</td>\n",
       "      <td>may, mon</td>\n",
       "      <td>may</td>\n",
       "      <td>mon</td>\n",
       "    </tr>\n",
       "  </tbody>\n",
       "</table>\n",
       "<p>1 rows × 22 columns</p>\n",
       "</div>"
      ],
      "text/plain": [
       "   age        job  marital education default housing loan    contact  \\\n",
       "0   56  housemaid  married  basic 4y      No      No   No  telephone   \n",
       "\n",
       "   duration  campaign  ...     poutcome  emp,var,rate cons,price,idx  \\\n",
       "0       261         1  ...  nonexistent           1.1         93.994   \n",
       "\n",
       "   cons,conf,idx  euribor3m  nr,employed   y month_day_week month   day  \n",
       "0          -36.4      4.857       5191,0  no       may, mon   may   mon  \n",
       "\n",
       "[1 rows x 22 columns]"
      ]
     },
     "execution_count": 41,
     "metadata": {},
     "output_type": "execute_result"
    }
   ],
   "source": [
    "df.head(1)"
   ]
  },
  {
   "cell_type": "markdown",
   "metadata": {},
   "source": [
    "5. Guarda el csv con las columnas limpias para seguir trabajando con este dataframe limpio."
   ]
  },
  {
   "cell_type": "code",
   "execution_count": 42,
   "metadata": {},
   "outputs": [],
   "source": [
    "df.to_csv(\"data/bank_clean2.csv\")"
   ]
  }
 ],
 "metadata": {
  "kernelspec": {
   "display_name": "base",
   "language": "python",
   "name": "python3"
  },
  "language_info": {
   "codemirror_mode": {
    "name": "ipython",
    "version": 3
   },
   "file_extension": ".py",
   "mimetype": "text/x-python",
   "name": "python",
   "nbconvert_exporter": "python",
   "pygments_lexer": "ipython3",
   "version": "3.9.7"
  },
  "orig_nbformat": 4
 },
 "nbformat": 4,
 "nbformat_minor": 2
}
